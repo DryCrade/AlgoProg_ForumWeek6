{
  "metadata": {
    "language_info": {
      "name": ""
    },
    "kernelspec": {
      "name": "python",
      "display_name": "Python (Pyodide)",
      "language": "python"
    }
  },
  "nbformat_minor": 4,
  "nbformat": 4,
  "cells": [
    {
      "cell_type": "code",
      "source": "# Forum Task 1 #\n\n# Creating the dictionary\nlloyd = {\n\"name\": \"Lloyd\",\n\"homework\": [90.0,97.0,75.0,92.0],\n\"quizzes\": [88.0,40.0,94.0],\n\"tests\": [75.0,90.0]\n}\nalice = {\n\"name\": \"Alice\",\n\"homework\": [100.0, 92.0, 98.0, 100.0],\n\"quizzes\": [82.0, 83.0, 91.0],\n\"tests\": [89.0, 97.0]\n}\ntyler = {\n\"name\": \"Tyler\",\n\"homework\": [0.0, 87.0, 75.0, 22.0],\n\"quizzes\": [0.0, 75.0, 78.0],\n\"tests\": [100.0, 100.0]\n}\n\n# Printing out names, homeworks, quizzes, and tests of each student\nstudents = [lloyd, alice, tyler]\nfor i in students:\n    print(i[\"name\"])\n    print(i[\"homework\"])\n    print(i[\"quizzes\"])\n    print(i[\"tests\"])\n\n# Defining average, get_average, and get_letter_grade\ndef average(x):\n    total = float(sum(x))\n    avg = total / len(x)\n    return avg\n\ndef get_average(student):\n    homeworkAvg = average(student[\"homework\"])\n    quizzesAvg = average(student[\"quizzes\"])\n    testsAvg = average(student[\"tests\"])\n    weightedHomework = homeworkAvg * (0.1)\n    weightedQuizzes = quizzesAvg * (0.3)\n    weightedTests = testsAvg * (0.6)\n    student_avg = weightedHomework + weightedQuizzes + weightedTests\n    return student_avg\n\ndef get_letter_grade(score):\n    if score >= 90:\n        return \"A\"\n    elif score >= 80:\n        return \"B\"\n    elif score >= 70:\n        return \"C\"\n    elif score >= 60:\n        return \"D\"\n    else:\n        return \"F\"\n\n# Printing gout Lloyd's letter grade\nlloydAvgScore = get_average(lloyd)\nlloydLetterGrade = get_letter_grade(lloydAvgScore)\nprint(lloydLetterGrade)\n\n# Defining get_class_average\ndef get_class_average(students):\n    results = []\n\n    for student in students:\n        studentAvg = get_average(student)\n        results.append(studentAvg)\n\n    classAvg = average(results)\n    return classAvg\n\n# Printing classAverage and get_letter_grade of classAverage\nclassAverage = get_class_average(students)\nprint(classAverage)\nprint(get_letter_grade(classAverage))",
      "metadata": {},
      "execution_count": null,
      "outputs": []
    },
    {
      "cell_type": "code",
      "source": "# Forum Task 2 #\n\n# Creating three dictionaries, consisting of course names, instructors, and class times\ncourseNames = {\n\"COP 2510\": [\"Programming Concepts\"],\n\"EGN 3000L\": [\"Foundations of Engineering Lab\"],\n\"MAC 2281\": [\"Calculus I\"],\n\"MUH 3016\": [\"Survey of Jazz\"],\n\"PHY 2048\": [\"General Physics I\"]\n}\n\ninstructors = {\n\"COP 2510\": [\"Z. Beasley\"],\n\"EGN 3000L\": [\"J. Anderson\"],\n\"MAC 2281\": [\"A. Makaryus\"],\n\"MUH 3016\": [\"A. Wilkins\"],\n\"PHY 2048\": [\"G. Pradhan\"]\n}\n\nclassTimes = {\n\"COP 2510\": [\"MW 12:30pm – 1:45pm\"],\n\"EGN 3000L\": [\"TR 11:00am – 12:15pm\"],\n\"MAC 2281\": [\"MW 9:30am – 10:45am\"],\n\"MUH 3016\": [\"online asynchronous\"],\n\"PHY 2048\": [\"TR 5:00pm – 6:15pm\"]\n}\n\n# Prompts user to enter a key\ncourseNumber = input(\"Enter a course number: \")\n\nif courseNumber in courseNames: # Details of the course are shown when the input is a key\n    courseName = courseNames[courseNumber]\n    instructor = instructors[courseNumber]\n    classTime = classTimes[courseNumber]\n    print('The course details are')\n    print(f'Course Name:{courseName}')\n    print(f'Instructor: {instructor}') \n    print(f'Class Times: {classTime}')\nelse: # For when the input is not a key\n    print(f'{courseNumber} is an invalid course number.')",
      "metadata": {},
      "execution_count": null,
      "outputs": []
    },
    {
      "cell_type": "code",
      "source": "# Forum Task 3 #\n\n# Make two lists, one containing the days in a week, and the other one is an empty list for appended sales\ndays = [\"Sunday\", \"Monday\", \"Tuesday\", \"Wednesday\", \"Thursday\", \"Friday\", \"Satuday\"]\nsumDays = []\n\n# Prompts the user to enter an input, using 'for' loop to get the input for each day in the list\nfor day in days:\n    while True: # While loop is used to ensure that the user enters the correct input (positive number)\n        try:\n            sales = float(input(f'Enter the value for {day}: '))\n            if sales >= 0: # Loop breaks when input is greater than zero and then proceed to the next item in the list\n                sumDays.append(sales)\n                break\n            else: # For when the float is less than zero, loop starts over again for that specific item in the list\n                print(\"Input has to be greater than 0. Please try again.\")\n                continue\n        except ValueError: # For when the value is not a float, loop starts over again for that specific item in the list\n            print(\"Input has to be an number, please try again.\")\n            continue\n\n# Creating variables for the sum, maximum, and minimum of the inputted values\nsumSales = sum(sumDays)\nminSales = min(sumDays)\nmaxSales = max(sumDays)\n\n# Format each of those recently created variables to two decimal places with comma seperation\nformatSumSales = '{0:,.2f}'.format(sumSales)\nformatMinSales = '{0:,.2f}'.format(minSales)\nformatMaxSales = '{0:,.2f}'.format(maxSales)\n\n# Prints out total sales, maximum sale amount, and minimum sale amount\nprint(f'The total sales is: ${formatSumSales}')\nprint(f'The minimum sale amount was: ${formatMinSales}')\nprint(f'The maximum sale amount was: ${formatMaxSales}')",
      "metadata": {},
      "execution_count": null,
      "outputs": []
    },
    {
      "cell_type": "code",
      "source": "# Forum Task 4 #\n\n# Creating the dictionary for valid alphabets\nmorse_code = {\n\" \": \" \",\n\"!\": \"−·−·−−\",\n\"@\": \"·−−·−·\",\n\"&\":\"·−···\",\n\"(\":\"−·−−·\",\n\")\":\"−·−−·−\",\n\"_\":\"··−−·−\",\n\"-\":\"−····−\",\n\"+\":\"·−·−·\",\n\"=\":\"−···−\",\n\":\":\"−−−···\",\n\";\":\"−·−·−·\",\n'\"':'·−··−·',\n\"'\":\"·−−−−·\",\n\",\": \"--..--\",\n\".\": \".-.-.-\",\n\"?\": \"..--..\",\n\"/\":\"−··−·\",\n\"0\": \"-----\",\n\"1\": \".----\",\n\"2\": \"..---\",\n\"3\": \"...--\",\n\"4\": \"....-\",\n\"5\": \".....\",\n\"6\": \"-....\",\n\"7\": \"--...\",\n\"8\": \"---..\",\n\"9\": \"----.\",\n\"A\": \".-\",\n\"B\": \"-...\",\n\"C\": \"-.-.\",\n\"D\": \"-..\",\n\"E\": \".\",\n\"F\": \"..-.\",\n\"G\": \"--.\",\n\"H\": \"....\",\n\"I\": \"..\",\n\"J\": \".---\",\n\"K\": \"-.-\",\n\"L\": \".-..\",\n\"M\": \"--\",\n\"N\": \"-.\",\n\"O\": \"---\",\n\"P\": \".---.\",\n\"Q\": \"--.-\",\n\"R\": \".-.\",\n\"S\": \"...\",\n\"T\": \"-\",\n\"U\": \"..-\",\n\"V\": \"...-\",\n\"W\": \".--\",\n\"X\": \"-..-\",\n\"Y\": \"-.--\",\n\"Z\": \"--..\"\n}\n\nmorseCodeList = [] # List for all the appended morse code\nuserStr = input(\"Enter the string to be converted to Morse code: \") # Prompts the user to enter a string\nuserStr = userStr.upper() # Converts all the string type to uppercase so that it can be detected in the dictionary\nletters = list(userStr) # Splits all the letters in the input and puts them in a list\nfor letter in letters: # For each letter in the input, convert it to morse code\n    if letter in morse_code:\n        morseCode = morse_code[letter]\n        morseCodeList.append(morseCode)\n    else:\n        morseCodeList.append(letter) # Appends the input into the list without any conversion anyway\n\nprint(\"\".join(morseCodeList)) # Print the morse code list, but by joining the list together so that the list will become a string",
      "metadata": {},
      "execution_count": null,
      "outputs": []
    }
  ]
}